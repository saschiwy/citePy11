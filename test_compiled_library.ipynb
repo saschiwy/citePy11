{
 "cells": [
  {
   "cell_type": "code",
   "execution_count": 1,
   "outputs": [],
   "source": [
    "import citePyExample.citePyExample as m"
   ],
   "metadata": {
    "collapsed": false,
    "ExecuteTime": {
     "end_time": "2024-01-05T13:59:21.355281900Z",
     "start_time": "2024-01-05T13:59:21.345148100Z"
    }
   }
  },
  {
   "cell_type": "code",
   "execution_count": 2,
   "outputs": [
    {
     "ename": "NameError",
     "evalue": "name 'citePyExample' is not defined",
     "output_type": "error",
     "traceback": [
      "\u001B[1;31m---------------------------------------------------------------------------\u001B[0m",
      "\u001B[1;31mNameError\u001B[0m                                 Traceback (most recent call last)",
      "Cell \u001B[1;32mIn[2], line 1\u001B[0m\n\u001B[1;32m----> 1\u001B[0m test_lib \u001B[38;5;241m=\u001B[39m \u001B[43mcitePyExample\u001B[49m\u001B[38;5;241m.\u001B[39mIExample\u001B[38;5;241m.\u001B[39mcreateLibrary()\n\u001B[0;32m      2\u001B[0m test_lib\u001B[38;5;241m.\u001B[39madd(\u001B[38;5;241m5\u001B[39m, \u001B[38;5;241m77\u001B[39m)\n",
      "\u001B[1;31mNameError\u001B[0m: name 'citePyExample' is not defined"
     ]
    }
   ],
   "source": [
    "test_lib = citePyExample.IExample.createLibrary()\n",
    "test_lib.add(5, 77)"
   ],
   "metadata": {
    "collapsed": false,
    "ExecuteTime": {
     "end_time": "2024-01-05T13:46:31.794220700Z",
     "start_time": "2024-01-05T13:46:31.640054400Z"
    }
   }
  },
  {
   "cell_type": "code",
   "execution_count": 2,
   "outputs": [
    {
     "ename": "AttributeError",
     "evalue": "property 'exampleDouble' of 'SecondNamespace.ExternalStruct' object has no setter",
     "output_type": "error",
     "traceback": [
      "\u001B[1;31m---------------------------------------------------------------------------\u001B[0m",
      "\u001B[1;31mAttributeError\u001B[0m                            Traceback (most recent call last)",
      "Cell \u001B[1;32mIn[2], line 2\u001B[0m\n\u001B[0;32m      1\u001B[0m example_struct \u001B[38;5;241m=\u001B[39m m\u001B[38;5;241m.\u001B[39mSecondNamespace\u001B[38;5;241m.\u001B[39mExternalStruct()\n\u001B[1;32m----> 2\u001B[0m \u001B[43mexample_struct\u001B[49m\u001B[38;5;241;43m.\u001B[39;49m\u001B[43mexampleDouble\u001B[49m \u001B[38;5;241m=\u001B[39m \u001B[38;5;241m5.0\u001B[39m\n\u001B[0;32m      3\u001B[0m \u001B[38;5;28mprint\u001B[39m(example_struct\u001B[38;5;241m.\u001B[39mexampleDouble)\n",
      "\u001B[1;31mAttributeError\u001B[0m: property 'exampleDouble' of 'SecondNamespace.ExternalStruct' object has no setter"
     ]
    }
   ],
   "source": [
    "example_struct = m.SecondNamespace.ExternalStruct()\n",
    "example_struct.exampleDouble = 5.0\n",
    "print(example_struct.exampleDouble)\n"
   ],
   "metadata": {
    "collapsed": false,
    "pycharm": {
     "name": "#%%\n"
    },
    "ExecuteTime": {
     "end_time": "2024-01-05T13:59:23.074124900Z",
     "start_time": "2024-01-05T13:59:22.915684300Z"
    }
   }
  },
  {
   "cell_type": "code",
   "execution_count": null,
   "outputs": [],
   "source": [],
   "metadata": {
    "collapsed": false
   }
  }
 ],
 "metadata": {
  "kernelspec": {
   "display_name": "Python 3",
   "language": "python",
   "name": "python3"
  },
  "language_info": {
   "codemirror_mode": {
    "name": "ipython",
    "version": 2
   },
   "file_extension": ".py",
   "mimetype": "text/x-python",
   "name": "python",
   "nbconvert_exporter": "python",
   "pygments_lexer": "ipython2",
   "version": "2.7.6"
  }
 },
 "nbformat": 4,
 "nbformat_minor": 0
}
